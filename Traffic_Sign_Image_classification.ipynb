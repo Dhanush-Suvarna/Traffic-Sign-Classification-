{
  "nbformat": 4,
  "nbformat_minor": 0,
  "metadata": {
    "colab": {
      "provenance": []
    },
    "kernelspec": {
      "name": "python3",
      "display_name": "Python 3"
    },
    "language_info": {
      "name": "python"
    },
    "accelerator": "GPU",
    "gpuClass": "standard"
  },
  "cells": [
    {
      "cell_type": "code",
      "execution_count": null,
      "metadata": {
        "colab": {
          "base_uri": "https://localhost:8080/"
        },
        "id": "2auDC-5ODD6z",
        "outputId": "551afd1b-e647-42e6-9e90-2b2ae79068a9"
      },
      "outputs": [
        {
          "output_type": "stream",
          "name": "stdout",
          "text": [
            "Mounted at /content/drive\n"
          ]
        }
      ],
      "source": [
        "#Connecting Google Drive\n",
        "from google.colab import drive\n",
        "drive.mount('/content/drive')"
      ]
    },
    {
      "cell_type": "code",
      "source": [
        "#Importing Required Libries\n",
        "import os\n",
        "import zipfile\n",
        "import tensorflow as tf\n",
        "import numpy as np\n",
        "import cv2\n",
        "import keras\n",
        "import matplotlib.pyplot as plt\n",
        "from keras. preprocessing.image import ImageDataGenerator\n",
        "from keras.models import load_model,save_model\n",
        "from keras.models import Sequential\n",
        "from keras.layers import Dense,Flatten\n",
        "from keras.callbacks import ModelCheckpoint\n",
        "from keras.callbacks import EarlyStopping\n",
        "from keras.applications import DenseNet121\n",
        "from keras.optimizers import Adam\n",
        "from keras.applications.densenet import preprocess_input\n"
      ],
      "metadata": {
        "id": "HkSE3xE3rFK9"
      },
      "execution_count": null,
      "outputs": []
    },
    {
      "cell_type": "code",
      "source": [
        "#Adding credential of kaggle\n",
        "os.environ['KAGGLE_USERNAME'] = \"dhanushsuvarna\" # username from the json file\n",
        "os.environ['KAGGLE_KEY'] = \"264136212b081bbb4ae039b39493efd9\" # key from the json file"
      ],
      "metadata": {
        "id": "yqtDnzUrsQl7"
      },
      "execution_count": 1,
      "outputs": []
    },
    {
      "cell_type": "code",
      "source": [
        "#downloading dataset from kaggle\n",
        "!kaggle datasets download -d ahemateja19bec1025/traffic-sign-dataset-classification"
      ],
      "metadata": {
        "id": "UTd7x4btsjzu"
      },
      "execution_count": null,
      "outputs": []
    },
    {
      "cell_type": "code",
      "source": [
        "#unziping the dataset and storing in drive\n",
        "zip_ref = zipfile.ZipFile(\"/content/traffic-sign-dataset-classification.zip\", 'r')\n",
        "zip_ref.extractall(\"/content/drive/MyDrive/traffic data\")\n",
        "zip_ref.close()\n"
      ],
      "metadata": {
        "id": "nEMRJuY2szTY"
      },
      "execution_count": null,
      "outputs": []
    },
    {
      "cell_type": "code",
      "source": [
        "#installing spilt folders\n",
        "pip install split-folders"
      ],
      "metadata": {
        "colab": {
          "base_uri": "https://localhost:8080/"
        },
        "id": "MTY9L3SPyrPh",
        "outputId": "a443b409-0313-4c08-a0f1-132375527e98"
      },
      "execution_count": null,
      "outputs": [
        {
          "output_type": "stream",
          "name": "stdout",
          "text": [
            "Looking in indexes: https://pypi.org/simple, https://us-python.pkg.dev/colab-wheels/public/simple/\n",
            "Collecting split-folders\n",
            "  Downloading split_folders-0.5.1-py3-none-any.whl (8.4 kB)\n",
            "Installing collected packages: split-folders\n",
            "Successfully installed split-folders-0.5.1\n"
          ]
        }
      ]
    },
    {
      "cell_type": "code",
      "source": [
        "#splitting the folders into train and test (70%,30%)\n",
        "import splitfolders\n",
        "input_folder = \"/content/drive/MyDrive/traffic data/traffic_Data/DATA\"\n",
        "output = \"/content/drive/MyDrive/traffic data\"\n",
        "splitfolders.ratio(input_folder, output=output, seed=42, ratio=(.7,.3))\n",
        "\n"
      ],
      "metadata": {
        "colab": {
          "base_uri": "https://localhost:8080/"
        },
        "id": "F0VPA1syw9wO",
        "outputId": "a130aea2-0367-4006-fd5f-54a86b6cf2e6"
      },
      "execution_count": null,
      "outputs": [
        {
          "output_type": "stream",
          "name": "stderr",
          "text": [
            "Copying files: 4170 files [00:35, 116.95 files/s]\n"
          ]
        }
      ]
    },
    {
      "cell_type": "code",
      "source": [
        "#Path of train test and pre\n",
        "train_data_dir = '/content/drive/MyDrive/traffic sign data/train'\n",
        "test_data_dir =  '/content/drive/MyDrive/traffic sign data/val'"
      ],
      "metadata": {
        "id": "Bq4ywVklypOL"
      },
      "execution_count": null,
      "outputs": []
    },
    {
      "cell_type": "code",
      "source": [
        "#Image data genrator for augmentation\n",
        "IMG_SIZE = (224, 224)\n",
        "BATCH_SIZE = 100\n",
        "image_generator = ImageDataGenerator(rescale=1./255,rotation_range = 10,\n",
        "    width_shift_range=0.2,\n",
        "    height_shift_range=0.2,\n",
        "    fill_mode='constant',\n",
        "    shear_range=0.1,\n",
        "    zoom_range=0.2,\n",
        "   validation_split=0.2)    \n",
        "# set the directory for train test and validation\n",
        "train_data = image_generator.flow_from_directory( directory=train_data_dir,\n",
        "                                                 target_size=IMG_SIZE, \n",
        "                                                 subset=\"training\",\n",
        "                                                 class_mode='categorical',batch_size=BATCH_SIZE)\n",
        "\n",
        "val_data = image_generator.flow_from_directory(directory=train_data_dir,\n",
        "                                                 target_size=IMG_SIZE, \n",
        "                                                 subset=\"validation\",\n",
        "                                                 class_mode='categorical',batch_size=BATCH_SIZE)\n",
        "test_gen = ImageDataGenerator(rescale=1./255)\n",
        "test_data = test_gen.flow_from_directory(test_data_dir,\n",
        "                                       target_size=IMG_SIZE, batch_size=BATCH_SIZE,shuffle=False)\n"
      ],
      "metadata": {
        "colab": {
          "base_uri": "https://localhost:8080/"
        },
        "id": "1tyWdkYFzkAX",
        "outputId": "dbb47f73-444b-4a8f-9776-a271a60cd0c7"
      },
      "execution_count": null,
      "outputs": [
        {
          "output_type": "stream",
          "name": "stdout",
          "text": [
            "Found 2340 images belonging to 58 classes.\n",
            "Found 556 images belonging to 58 classes.\n",
            "Found 1274 images belonging to 58 classes.\n"
          ]
        }
      ]
    },
    {
      "cell_type": "code",
      "source": [
        "#model Creation using densnet\n",
        "model = Sequential()\n",
        "\n",
        "pretrained_model= DenseNet121(include_top=False,\n",
        "                   input_shape=(224,224,3),\n",
        "                   weights='imagenet')\n",
        "for layer in pretrained_model.layers:\n",
        "        layer.trainable=False\n",
        "model.add(pretrained_model)\n"
      ],
      "metadata": {
        "id": "5Tr53SnQ0dnD"
      },
      "execution_count": null,
      "outputs": []
    },
    {
      "cell_type": "code",
      "source": [
        "#Adding flatten layer and output layer\n",
        "model.add(Flatten())\n",
        "model.add(Dense(58, activation='softmax'))"
      ],
      "metadata": {
        "id": "OlKk5lJ91iEZ"
      },
      "execution_count": null,
      "outputs": []
    },
    {
      "cell_type": "code",
      "source": [
        "#model Summary\n",
        "model.summary()\n"
      ],
      "metadata": {
        "colab": {
          "base_uri": "https://localhost:8080/"
        },
        "id": "i17sxLj42IMi",
        "outputId": "60d7de5d-df1b-4ef9-c2a6-63edc03eb9a0"
      },
      "execution_count": null,
      "outputs": [
        {
          "output_type": "stream",
          "name": "stdout",
          "text": [
            "Model: \"sequential_1\"\n",
            "_________________________________________________________________\n",
            " Layer (type)                Output Shape              Param #   \n",
            "=================================================================\n",
            " densenet121 (Functional)    (None, 7, 7, 1024)        7037504   \n",
            "                                                                 \n",
            " flatten_1 (Flatten)         (None, 50176)             0         \n",
            "                                                                 \n",
            " dense_1 (Dense)             (None, 58)                2910266   \n",
            "                                                                 \n",
            "=================================================================\n",
            "Total params: 9,947,770\n",
            "Trainable params: 2,910,266\n",
            "Non-trainable params: 7,037,504\n",
            "_________________________________________________________________\n"
          ]
        }
      ]
    },
    {
      "cell_type": "code",
      "source": [
        "#compiling the model \n",
        "model.compile(optimizer=Adam(learning_rate=0.0005), \n",
        "              loss='categorical_crossentropy', \n",
        "              metrics=['accuracy'])\n"
      ],
      "metadata": {
        "id": "TsEj_HDt2KIl"
      },
      "execution_count": null,
      "outputs": []
    },
    {
      "cell_type": "code",
      "source": [
        "#Adding filepath and saving the weights for every epochs \n",
        "checkpoint_filepath='/content/drive/MyDrive/traffic sign dataset'\n",
        "call_back=[ModelCheckpoint(\n",
        "    filepath=checkpoint_filepath,\n",
        "    save_weights_only=True,\n",
        "    monitor='val_accuracy',\n",
        "    mode='max',\n",
        "    save_best_only=True),EarlyStopping(monitor=\"val_accuracy\",patience=6)]\n"
      ],
      "metadata": {
        "id": "1OwEN6Ts2Rlt"
      },
      "execution_count": null,
      "outputs": []
    },
    {
      "cell_type": "code",
      "source": [
        "#Training the model \n",
        "model.fit_generator(train_data,validation_data= val_data,epochs=100,callbacks=call_back)\n"
      ],
      "metadata": {
        "colab": {
          "base_uri": "https://localhost:8080/"
        },
        "id": "G5IXIiSKIema",
        "outputId": "8f822678-8bcd-4048-b040-30add3b84e87"
      },
      "execution_count": null,
      "outputs": [
        {
          "output_type": "stream",
          "name": "stderr",
          "text": [
            "/usr/local/lib/python3.7/dist-packages/ipykernel_launcher.py:1: UserWarning: `Model.fit_generator` is deprecated and will be removed in a future version. Please use `Model.fit`, which supports generators.\n",
            "  \"\"\"Entry point for launching an IPython kernel.\n"
          ]
        },
        {
          "output_type": "stream",
          "name": "stdout",
          "text": [
            "Epoch 1/100\n",
            "24/24 [==============================] - 52s 2s/step - loss: 3.9755 - accuracy: 0.4846 - val_loss: 1.1738 - val_accuracy: 0.7878\n",
            "Epoch 2/100\n",
            "24/24 [==============================] - 37s 2s/step - loss: 0.7142 - accuracy: 0.8667 - val_loss: 0.6193 - val_accuracy: 0.8435\n",
            "Epoch 3/100\n",
            "24/24 [==============================] - 36s 2s/step - loss: 0.3513 - accuracy: 0.9051 - val_loss: 0.2973 - val_accuracy: 0.9101\n",
            "Epoch 4/100\n",
            "24/24 [==============================] - 37s 2s/step - loss: 0.2375 - accuracy: 0.9333 - val_loss: 0.2838 - val_accuracy: 0.9299\n",
            "Epoch 5/100\n",
            "24/24 [==============================] - 36s 2s/step - loss: 0.2201 - accuracy: 0.9530 - val_loss: 0.2799 - val_accuracy: 0.9424\n",
            "Epoch 6/100\n",
            "24/24 [==============================] - 36s 2s/step - loss: 0.1276 - accuracy: 0.9615 - val_loss: 0.2686 - val_accuracy: 0.9550\n",
            "Epoch 7/100\n",
            "24/24 [==============================] - 36s 2s/step - loss: 0.1451 - accuracy: 0.9654 - val_loss: 0.2334 - val_accuracy: 0.9353\n",
            "Epoch 8/100\n",
            "24/24 [==============================] - 36s 2s/step - loss: 0.1123 - accuracy: 0.9722 - val_loss: 0.1377 - val_accuracy: 0.9496\n",
            "Epoch 9/100\n",
            "24/24 [==============================] - 35s 1s/step - loss: 0.0901 - accuracy: 0.9718 - val_loss: 0.1959 - val_accuracy: 0.9550\n",
            "Epoch 10/100\n",
            "24/24 [==============================] - 36s 2s/step - loss: 0.1458 - accuracy: 0.9697 - val_loss: 0.1712 - val_accuracy: 0.9622\n",
            "Epoch 11/100\n",
            "24/24 [==============================] - 36s 2s/step - loss: 0.0900 - accuracy: 0.9816 - val_loss: 0.1365 - val_accuracy: 0.9712\n",
            "Epoch 12/100\n",
            "24/24 [==============================] - 37s 2s/step - loss: 0.0531 - accuracy: 0.9859 - val_loss: 0.1481 - val_accuracy: 0.9748\n",
            "Epoch 13/100\n",
            "24/24 [==============================] - 36s 1s/step - loss: 0.0785 - accuracy: 0.9795 - val_loss: 0.0955 - val_accuracy: 0.9730\n",
            "Epoch 14/100\n",
            "24/24 [==============================] - 36s 2s/step - loss: 0.0661 - accuracy: 0.9838 - val_loss: 0.0609 - val_accuracy: 0.9820\n",
            "Epoch 15/100\n",
            "24/24 [==============================] - 35s 1s/step - loss: 0.0476 - accuracy: 0.9876 - val_loss: 0.1238 - val_accuracy: 0.9694\n",
            "Epoch 16/100\n",
            "24/24 [==============================] - 35s 1s/step - loss: 0.0686 - accuracy: 0.9799 - val_loss: 0.2149 - val_accuracy: 0.9496\n",
            "Epoch 17/100\n",
            "24/24 [==============================] - 35s 1s/step - loss: 0.0822 - accuracy: 0.9803 - val_loss: 0.0615 - val_accuracy: 0.9766\n",
            "Epoch 18/100\n",
            "24/24 [==============================] - 36s 2s/step - loss: 0.0596 - accuracy: 0.9842 - val_loss: 0.0770 - val_accuracy: 0.9802\n",
            "Epoch 19/100\n",
            "24/24 [==============================] - 35s 1s/step - loss: 0.0497 - accuracy: 0.9825 - val_loss: 0.0629 - val_accuracy: 0.9820\n",
            "Epoch 20/100\n",
            "24/24 [==============================] - 35s 1s/step - loss: 0.0492 - accuracy: 0.9880 - val_loss: 0.0617 - val_accuracy: 0.9874\n",
            "Epoch 21/100\n",
            "24/24 [==============================] - 35s 1s/step - loss: 0.0506 - accuracy: 0.9859 - val_loss: 0.1244 - val_accuracy: 0.9712\n",
            "Epoch 22/100\n",
            "24/24 [==============================] - 35s 1s/step - loss: 0.0729 - accuracy: 0.9842 - val_loss: 0.0958 - val_accuracy: 0.9838\n",
            "Epoch 23/100\n",
            "24/24 [==============================] - 34s 1s/step - loss: 0.0423 - accuracy: 0.9902 - val_loss: 0.1344 - val_accuracy: 0.9730\n",
            "Epoch 24/100\n",
            "24/24 [==============================] - 35s 1s/step - loss: 0.0928 - accuracy: 0.9821 - val_loss: 0.1060 - val_accuracy: 0.9784\n",
            "Epoch 25/100\n",
            "24/24 [==============================] - 36s 1s/step - loss: 0.0554 - accuracy: 0.9838 - val_loss: 0.1159 - val_accuracy: 0.9694\n",
            "Epoch 26/100\n",
            "24/24 [==============================] - 34s 1s/step - loss: 0.0731 - accuracy: 0.9799 - val_loss: 0.0946 - val_accuracy: 0.9766\n"
          ]
        }
      ]
    },
    {
      "cell_type": "code",
      "source": [
        "#Evaluating test data\n",
        "model.evaluate_generator(test_data)\n"
      ],
      "metadata": {
        "colab": {
          "base_uri": "https://localhost:8080/"
        },
        "id": "6FZ3WhJbI2dk",
        "outputId": "a6f5b3c5-c16a-46ec-a66e-509faa58f4cc"
      },
      "execution_count": null,
      "outputs": [
        {
          "output_type": "stream",
          "name": "stderr",
          "text": [
            "/usr/local/lib/python3.7/dist-packages/ipykernel_launcher.py:1: UserWarning: `Model.evaluate_generator` is deprecated and will be removed in a future version. Please use `Model.evaluate`, which supports generators.\n",
            "  \"\"\"Entry point for launching an IPython kernel.\n"
          ]
        },
        {
          "output_type": "execute_result",
          "data": {
            "text/plain": [
              "[0.16805364191532135, 0.9772370457649231]"
            ]
          },
          "metadata": {},
          "execution_count": 19
        }
      ]
    },
    {
      "cell_type": "code",
      "source": [
        "#saving the model\n",
        "model.save('/content/drive/MyDrive/traffic sign dataset/densenet-best-model3.hdf5')\n"
      ],
      "metadata": {
        "id": "AmekfcuXJ_OD"
      },
      "execution_count": null,
      "outputs": []
    },
    {
      "cell_type": "code",
      "source": [
        "#Plotting the inferance data \n",
        "inf_img = plt.imread('/content/drive/MyDrive/traffic data/traffic_Data/TEST/016_0016_j.png')\n",
        "plt.imshow(inf_img)\n",
        "plt.show()"
      ],
      "metadata": {
        "colab": {
          "base_uri": "https://localhost:8080/",
          "height": 268
        },
        "id": "EgwNlfWaKSIn",
        "outputId": "640e8800-add1-4095-eb45-233088b97491"
      },
      "execution_count": null,
      "outputs": [
        {
          "output_type": "display_data",
          "data": {
            "text/plain": [
              "<Figure size 432x288 with 1 Axes>"
            ],
            "image/png": "[encoded data removed]"
          },
          "metadata": {
            "needs_background": "light"
          }
        }
      ]
    },
    {
      "cell_type": "code",
      "source": [
        "#Resizing the inferance data\n",
        "infer_img_resize = cv2.resize(inf_img,(224,224))"
      ],
      "metadata": {
        "id": "amzJeED7LQuc"
      },
      "execution_count": null,
      "outputs": []
    },
    {
      "cell_type": "code",
      "source": [
        "# converting  array to image\n",
        "x = keras.utils.array_to_img(infer_img_resize)\n",
        "# it expands the dimention of array like if we have 1D array and we applied expand_dims that convert into 2D array\n",
        "x = np.expand_dims(x,axis=0)"
      ],
      "metadata": {
        "id": "4fAEgJVaLd9E"
      },
      "execution_count": null,
      "outputs": []
    },
    {
      "cell_type": "code",
      "source": [
        "# preprocess our image\n",
        "x = preprocess_input(x)\n"
      ],
      "metadata": {
        "id": "YIIR5_xpL0Qr"
      },
      "execution_count": null,
      "outputs": []
    },
    {
      "cell_type": "code",
      "source": [
        "# prediction \n",
        "final = model.predict(x)"
      ],
      "metadata": {
        "colab": {
          "base_uri": "https://localhost:8080/"
        },
        "id": "3dKQ6UkUMPqw",
        "outputId": "ff1d7e9c-a69b-4b47-ba5c-e8f752636db0"
      },
      "execution_count": null,
      "outputs": [
        {
          "output_type": "stream",
          "name": "stdout",
          "text": [
            "1/1 [==============================] - 3s 3s/step\n"
          ]
        }
      ]
    },
    {
      "cell_type": "code",
      "source": [
        "# argmax return the maximum element of the array\n",
        "intel = ['0','1','10','11','12','13','14','15','16','17','18','19','2','20','21','22','23','24','25','26','27','28','29','3','30','31','32','33','34','35','36','37','38','39','4','40','41','42','43','44','45','46','47','48','49','5','50','51','52','53','54','55','56','57','6','7','8','9']\n",
        "predicted = intel[np.argmax(model.predict(x)[0])]"
      ],
      "metadata": {
        "colab": {
          "base_uri": "https://localhost:8080/"
        },
        "id": "W69O3cDkMRu8",
        "outputId": "9017055b-251b-450c-8319-51ae06983eca"
      },
      "execution_count": null,
      "outputs": [
        {
          "output_type": "stream",
          "name": "stdout",
          "text": [
            "1/1 [==============================] - 0s 36ms/step\n"
          ]
        }
      ]
    },
    {
      "cell_type": "code",
      "source": [
        "predicted"
      ],
      "metadata": {
        "colab": {
          "base_uri": "https://localhost:8080/",
          "height": 36
        },
        "id": "zcUNUcKgMZVr",
        "outputId": "b29f93d6-d6f8-4219-ed41-6542294701a4"
      },
      "execution_count": null,
      "outputs": [
        {
          "output_type": "execute_result",
          "data": {
            "text/plain": [
              "'16'"
            ],
            "application/vnd.google.colaboratory.intrinsic+json": {
              "type": "string"
            }
          },
          "metadata": {},
          "execution_count": 27
        }
      ]
    },
    {
      "cell_type": "code",
      "source": [
        "#Loading the saved model\n",
        "new_model=load_model('/content/drive/MyDrive/Traffic Sign Dataset/densenet-best-model3.hdf5')"
      ],
      "metadata": {
        "id": "3I8VGZhaMgYW"
      },
      "execution_count": null,
      "outputs": []
    },
    {
      "cell_type": "code",
      "source": [
        "#Evaluating Test data\n",
        "new_model.evaluate_generator(test_data)"
      ],
      "metadata": {
        "colab": {
          "base_uri": "https://localhost:8080/"
        },
        "id": "8-HAvV7aAHsl",
        "outputId": "b3eed163-4557-414e-ec02-054364cce486"
      },
      "execution_count": null,
      "outputs": [
        {
          "output_type": "stream",
          "name": "stderr",
          "text": [
            "/usr/local/lib/python3.7/dist-packages/ipykernel_launcher.py:1: UserWarning: `Model.evaluate_generator` is deprecated and will be removed in a future version. Please use `Model.evaluate`, which supports generators.\n",
            "  \"\"\"Entry point for launching an IPython kernel.\n"
          ]
        },
        {
          "output_type": "execute_result",
          "data": {
            "text/plain": [
              "[0.16805364191532135, 0.9772370457649231]"
            ]
          },
          "metadata": {},
          "execution_count": 9
        }
      ]
    },
    {
      "cell_type": "code",
      "source": [
        "#adding inferance data\n",
        "infer_data_dir =\"/content/drive/MyDrive/traffic sign data/TEST\"\n",
        "infer_gen = ImageDataGenerator(rescale=1./255)\n",
        "infer_data = infer_gen.flow_from_directory(infer_data_dir,\n",
        "                                       target_size=IMG_SIZE, batch_size=BATCH_SIZE,shuffle=False)\n"
      ],
      "metadata": {
        "colab": {
          "base_uri": "https://localhost:8080/"
        },
        "id": "PgzQDWd_APu-",
        "outputId": "8edcd909-3ac1-4ccc-fa50-dba1832d838e"
      },
      "execution_count": null,
      "outputs": [
        {
          "output_type": "stream",
          "name": "stdout",
          "text": [
            "Found 1998 images belonging to 58 classes.\n"
          ]
        }
      ]
    },
    {
      "cell_type": "code",
      "source": [
        "#Evalutating Inferance data\n",
        "new_model.evaluate_generator(infer_data)"
      ],
      "metadata": {
        "colab": {
          "base_uri": "https://localhost:8080/"
        },
        "id": "Zism8PtpM5cH",
        "outputId": "692ad72b-9fec-48b4-ccd9-a46b34fa93b1"
      },
      "execution_count": null,
      "outputs": [
        {
          "output_type": "stream",
          "name": "stderr",
          "text": [
            "/usr/local/lib/python3.7/dist-packages/ipykernel_launcher.py:1: UserWarning: `Model.evaluate_generator` is deprecated and will be removed in a future version. Please use `Model.evaluate`, which supports generators.\n",
            "  \"\"\"Entry point for launching an IPython kernel.\n"
          ]
        },
        {
          "output_type": "execute_result",
          "data": {
            "text/plain": [
              "[3.248878002166748, 0.6336336135864258]"
            ]
          },
          "metadata": {},
          "execution_count": 24
        }
      ]
    },
    {
      "cell_type": "code",
      "source": [],
      "metadata": {
        "id": "SoINbPrLisX6"
      },
      "execution_count": null,
      "outputs": []
    }
  ]
}